{
 "cells": [
  {
   "cell_type": "code",
   "execution_count": 1,
   "id": "84691e71-95e1-4b23-8b3f-26cadf379225",
   "metadata": {},
   "outputs": [
    {
     "data": {
      "text/html": [
       "<iframe\n",
       "    scrolling=\"no\"\n",
       "    width=\"100%\"\n",
       "    height=\"545px\"\n",
       "    src=\"iframe_figures/figure_14.html\"\n",
       "    frameborder=\"0\"\n",
       "    allowfullscreen\n",
       "></iframe>\n"
      ]
     },
     "metadata": {},
     "output_type": "display_data"
    }
   ],
   "source": [
    "import plotly.graph_objects as go\n",
    "\n",
    "salaries = [\n",
    "    (\"Mark\", 1000),\n",
    "    (\"John\", 1500),\n",
    "    (\"Daniel\", 2300),\n",
    "    (\"Greg\", 5000)\n",
    "]\n",
    "\n",
    "names = list(map(lambda tup: tup[0], salaries))\n",
    "salary_values = list(map(lambda tup: tup[1], salaries))\n",
    "\n",
    "fig = go.Figure(data=[go.Bar(x=names, y=salary_values)])\n",
    "fig.update_xaxes(title_text=\"Names\")\n",
    "fig.update_yaxes(title_text=\"Salaries\")\n",
    "fig.update_layout(title_text=\"Salaries Distribution with plotly\")\n",
    "fig.show(renderer=\"iframe\")\n"
   ]
  },
  {
   "cell_type": "code",
   "execution_count": null,
   "id": "2ea3af81-7153-4de8-9c33-558485b56b2e",
   "metadata": {},
   "outputs": [],
   "source": []
  }
 ],
 "metadata": {
  "kernelspec": {
   "display_name": "Python 3",
   "language": "python",
   "name": "python3"
  },
  "language_info": {
   "codemirror_mode": {
    "name": "ipython",
    "version": 3
   },
   "file_extension": ".py",
   "mimetype": "text/x-python",
   "name": "python",
   "nbconvert_exporter": "python",
   "pygments_lexer": "ipython3",
   "version": "3.9.2"
  }
 },
 "nbformat": 4,
 "nbformat_minor": 5
}
